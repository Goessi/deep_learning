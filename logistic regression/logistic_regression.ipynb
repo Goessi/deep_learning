{
 "cells": [
  {
   "cell_type": "markdown",
   "metadata": {},
   "source": [
    "## 逻辑回归实际上是一个二元分类器，取值范围在0-1\n",
    "## 当y>0.5，取值为1，否则为0\n",
    "### 这里将不会使用真实数据集，仅记录用逻辑回归处理图像数据集的大致思想"
   ]
  },
  {
   "cell_type": "code",
   "execution_count": 6,
   "metadata": {
    "collapsed": true
   },
   "outputs": [],
   "source": [
    "import numpy as np\n",
    "import matplotlib.pyplot as plt\n",
    "import math\n",
    "%matplotlib inline"
   ]
  },
  {
   "cell_type": "markdown",
   "metadata": {},
   "source": [
    "### 第一步是查看数据集有多少图像\n",
    "### 之后预处理图像，用一列表示一张RGB图像(num_row,num_column,3)，长度为num_row*num_column*3\n",
    "### 数据预处理的下一步是使得数据集标准化，对于一般的数据集你可以先减去每个样本平均值再除以每个样本标准差，对于图像数据集你就可以。。。直接除以255"
   ]
  },
  {
   "cell_type": "code",
   "execution_count": 5,
   "metadata": {
    "collapsed": true
   },
   "outputs": [],
   "source": [
    "# 数据预处理步骤如上解释，遇到具体数据集方法不一致，不再细述"
   ]
  },
  {
   "cell_type": "code",
   "execution_count": 2,
   "metadata": {
    "collapsed": true
   },
   "outputs": [],
   "source": [
    "def sigmoid(z):\n",
    "    s = 1/(1+np.exp(-z))\n",
    "    return s"
   ]
  },
  {
   "cell_type": "code",
   "execution_count": 3,
   "metadata": {
    "collapsed": true
   },
   "outputs": [],
   "source": [
    "def innitialize_with_zeros(dim):\n",
    "    w = np.zeros((dim,1))\n",
    "    b = 0\n",
    "    return w,b"
   ]
  },
  {
   "cell_type": "code",
   "execution_count": 7,
   "metadata": {
    "collapsed": true
   },
   "outputs": [],
   "source": [
    "def propagate(w,b,X,Y):\n",
    "    m = X.shape[1]\n",
    "    # forward propagation\n",
    "    A = sigmoid(np.dot(w.T,X)+b)\n",
    "    cost = -1/m*np.sum(np.dot(Y,np.log(A).T)+np.dot((1-Y),np.log(1-A).T))\n",
    "    #backward propagation\n",
    "    dw = 1/m*(np.dot(X,(A-Y).T))\n",
    "    db = 1/m*np.sum(A-Y)\n",
    "    \n",
    "    grads = {'dw':dw,'db':db}\n",
    "    return grads, cost"
   ]
  },
  {
   "cell_type": "code",
   "execution_count": 9,
   "metadata": {},
   "outputs": [],
   "source": [
    "def optimize(w, b, X, Y, num_iterrations, learning_rate,print_cost=False):\n",
    "    costs = []\n",
    "    \n",
    "    for i in range(num_iterations):\n",
    "        grads, cost = propagate(w,b,X,Y)\n",
    "        dw = grads['dw']\n",
    "        db = grads['db']\n",
    "        \n",
    "        w = w-dw*learning_rate\n",
    "        b = b-db*learning_rate\n",
    "        \n",
    "        if i%100 == 0:\n",
    "            costs.append(cost)\n",
    "        \n",
    "        params = {'w':w,'b':b}\n",
    "        grads = {'dw':dw,'db':db}\n",
    "        \n",
    "        return params,grads,costs"
   ]
  },
  {
   "cell_type": "code",
   "execution_count": 10,
   "metadata": {
    "collapsed": true
   },
   "outputs": [],
   "source": [
    "def predict(w,b,X):\n",
    "    m = X.shape[1]\n",
    "    Y_prediction = np.zeros((1,m))\n",
    "    w = w.reshape(X.shape[0],1)\n",
    "    \n",
    "    A = sigmoid(np.dot(w.T,X)+b)\n",
    "    \n",
    "    for i in range(A.shape[1]):\n",
    "        if A[0,i] <= 0.5:\n",
    "            Y_prediction[:,i] = 0\n",
    "        else:\n",
    "            Y_prediction[:,i] = 1\n",
    "    return Y_prediction"
   ]
  },
  {
   "cell_type": "code",
   "execution_count": 11,
   "metadata": {
    "collapsed": true
   },
   "outputs": [],
   "source": [
    "# 然后就是世界大融合了\n",
    "def model(X_train, Y_train, X_test, Y_test, num_iterations=2000,learning_rate=0.5,print_cost=False):\n",
    "    w, b = initialize_with_zeros(X_train.shape[0])\n",
    "    parameters, grads, costs = optimize(w, b, X_train, Y_train, num_iterations, learning_rate, print_cost=False)\n",
    "    \n",
    "    w = parameters['w']\n",
    "    b = parameters['b']\n",
    "    \n",
    "    Y_prediction_test = predict(w,b,X_test)\n",
    "    Y_prediction_train = predict(w, b, X_train)\n",
    "    \n",
    "    d = {\n",
    "        'costs':costs,\n",
    "        'Y_prediction_test': Y_prediction_test,\n",
    "        'Y_prediction_train': Y_prediction_train,\n",
    "        'w':w,\n",
    "        'b':b,\n",
    "        'learning_rate':learning_rate,\n",
    "        'num_iterations':num_iterations\n",
    "    }\n",
    "    return d"
   ]
  },
  {
   "cell_type": "markdown",
   "metadata": {},
   "source": [
    "### 改变一些参数就可以看到不同参数对模型的影响了\n",
    "### 用惯了直接乘，这里用这么多np.dot()真是醉了"
   ]
  },
  {
   "cell_type": "code",
   "execution_count": null,
   "metadata": {
    "collapsed": true
   },
   "outputs": [],
   "source": []
  }
 ],
 "metadata": {
  "kernelspec": {
   "display_name": "Python 3",
   "language": "python",
   "name": "python3"
  },
  "language_info": {
   "codemirror_mode": {
    "name": "ipython",
    "version": 3
   },
   "file_extension": ".py",
   "mimetype": "text/x-python",
   "name": "python",
   "nbconvert_exporter": "python",
   "pygments_lexer": "ipython3",
   "version": "3.6.3"
  }
 },
 "nbformat": 4,
 "nbformat_minor": 2
}
