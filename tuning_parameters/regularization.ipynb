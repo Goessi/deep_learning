{
 "cells": [
  {
   "cell_type": "code",
   "execution_count": 1,
   "metadata": {
    "collapsed": true
   },
   "outputs": [],
   "source": [
    "import numpy as np\n",
    "import matplotlib.pyplot as plt\n",
    "import sklearn"
   ]
  },
  {
   "cell_type": "code",
   "execution_count": 2,
   "metadata": {
    "collapsed": true
   },
   "outputs": [],
   "source": [
    "def model(X, Y, learning_rate=0.3, num_iterations = 30000,print_cost = True,lambd=0,keep_prob=1):\n",
    "    grads = {}\n",
    "    costs = []\n",
    "    m = X.shape[1]\n",
    "    layer_dims = [X.shape[0],20,3,1]\n",
    "    \n",
    "    parameters = initialize_parameters(layers_dims)\n",
    "    \n",
    "    for i in range(0,num_iterations):\n",
    "        if keep_prob == 1:\n",
    "            a3, cache = forward_propagation(X, parameters)\n",
    "        elif keep_prob < 1:\n",
    "            a3, cache = forward_propagation_with_dropout(X, parameters, keep_prob)\n",
    "    \n",
    "    if lambd == 0:\n",
    "        cost = compute_cost(a3, Y)\n",
    "    else:\n",
    "        cost = compute_cost_with_regularization(a3, Y, parameters, lambd)\n",
    "        \n",
    "    if lambd == 0 and keep_prob == 1:\n",
    "        grads = backward_propagation(X, Y, cache)\n",
    "    elif lambd != 0:\n",
    "        grads = backward_propagation_with_regularization(X, Y, cache, keep_prob)\n",
    "    elif keep_prob < 1:\n",
    "        grads = backward_propagation_with_dropout(X, Y, cache, keep_prob)\n",
    "        \n",
    "    parameters = update_parameters(parameters, grads, learning_rate)\n",
    "    \n",
    "    if print_cost and i%1000 == 0:\n",
    "        costs.append(cost)\n",
    "    return parameters        "
   ]
  },
  {
   "cell_type": "code",
   "execution_count": 3,
   "metadata": {
    "collapsed": true
   },
   "outputs": [],
   "source": [
    "def compute_cost_with_regularization(A3, Y, parameters, lambd):\n",
    "    m = Y.shape[1]\n",
    "    W1 = parameters[\"W1\"]\n",
    "    W2 = parameters[\"W2\"]\n",
    "    W3 = parameters[\"W3\"]\n",
    "    \n",
    "    cross_entropy_cost = compute_cost(A3, Y)\n",
    "    \n",
    "    L2_regularization_cost = lambd/(2*m)*(np.sum(np.square(W1)) + np.sum(np.square(W2)) + np.sum(np.square(W3)))\n",
    "    cost = cross_entropy_cost + L2_regularization_cost\n",
    "    return cost"
   ]
  },
  {
   "cell_type": "code",
   "execution_count": 4,
   "metadata": {
    "collapsed": true
   },
   "outputs": [],
   "source": [
    "def backward_propagation_with_regularization(X, Y, cache, lambd):\n",
    "    m = X.shape[1]\n",
    "    (Z1, A1, W1, b1, Z2, A2, W2, b2, Z3, A3, W3, b3) = cache\n",
    "    \n",
    "    dZ3 = A3 - Y\n",
    "    \n",
    "    dW3 = 1./m*np.dot(dZ3, A2.T) + lambd*W3/m\n",
    "    db3 = 1./m*np.sum(dZ3, axis=1, keepdims=True)\n",
    "    \n",
    "    dA2 = np.dot(W3.T, dZ3)\n",
    "    dZ2 = np.multiply(dA2, np.int64(A2 > 0))\n",
    "    dW2 = 1./m*np.dot(dZ2, A1.T) + lambd*W2/m\n",
    "    db2 = 1./m*np.sum(dZ2, axis=1, keepdims=True)\n",
    "    \n",
    "    dA1 = np.dot(W2.T, dZ2)\n",
    "    dZ1 = np.multiply(dA1, no.int64(A1>0))\n",
    "    dW1 = 1./m*np.dot(dZ1, X.T) + lambd*W1/m\n",
    "    db1 = 1./m*np.sum(dZ1, axis=1, keepdims=True)\n",
    "    \n",
    "    gradients = {'dZ3':dZ3, 'dW3':dW3,'db3':db3,'dA2':dA2,\n",
    "                'dZ2':dZ2,'dW2':dW2,'db2':db2,'dA1':dA1,\n",
    "                'dZ1':dZ1,'dW1':dW1,'db1':db1}\n",
    "    \n",
    "    return gradients"
   ]
  },
  {
   "cell_type": "code",
   "execution_count": 5,
   "metadata": {
    "collapsed": true
   },
   "outputs": [],
   "source": [
    "def forward_propagation_with_dropout(X, parameters, keep_prob=0.5):\n",
    "    W1 = parameters['W1']\n",
    "    b1 = parameters['b1']\n",
    "    W2 = parameters['W2']\n",
    "    b2 = parameters['b2']\n",
    "    W3 = parameters['W3']\n",
    "    b3 = parameters['b3']\n",
    "    \n",
    "    Z1 = np.dot(W1, X) + b1\n",
    "    A1 = relu(Z1)\n",
    "    D1 = np.random.rand(A1.shape[0],A1.shape[1])\n",
    "    D1 = (D1<keep_prob)\n",
    "    A1 = A1*D1\n",
    "    A1 = A1/keep_prob\n",
    "    Z2 = np.dot(W2, A1) + b2\n",
    "    A2 = relu(Z2)\n",
    "    D2 = np.random.rand(A2.shape[0], A2.shape[1])\n",
    "    D2 = (D2<keep_prob)\n",
    "    A2 = A2*D2\n",
    "    A2 = A2/keep_prob\n",
    "    Z3 = np.dot(W3, A2) + b3\n",
    "    A3 = sigmoid(Z3)\n",
    "    \n",
    "    cache = (Z1, D1, A1, W1, b1, Z2, D2, A2, W2, b2, Z3, A3, W3, b3)\n",
    "    \n",
    "    return A3, cache"
   ]
  },
  {
   "cell_type": "code",
   "execution_count": 6,
   "metadata": {
    "collapsed": true
   },
   "outputs": [],
   "source": [
    "def backward_propagation_with_dropout(X, Y, cache, keep_prob):\n",
    "    m = X.shape[1]\n",
    "    (Z1, D1, A1, W1, b1, Z2, D2, A2, W2, b2, Z3, A3, W3, b3)=cache\n",
    "    \n",
    "    dZ3 = A3 - Y\n",
    "    dW3 = 1./m*np.dot(dZ3, A2.T)\n",
    "    db3 = 1./m*np.sum(dZ3, axis=1, keepdims=True)\n",
    "    dA2 = np.dot(W3.T, dZ3)\n",
    "    dA2 = dA2*D2\n",
    "    dA2 = dA2/keep_prob\n",
    "    \n",
    "    dZ2 = np.multiply(dA2, no.int64(A2>0))\n",
    "    dW2 = 1./m*np.dot(dZ2, A1.T)\n",
    "    db2 = 1./m*np.sum(dZ2, axis=1, keepdims=True)\n",
    "    \n",
    "    dA1 = np.dot(W2.T, dZ2)\n",
    "    dA1 = dA1*D1\n",
    "    dA1 = dA1/keep_prob\n",
    "    dZ1 = np.multiply(dA1, np.int64(A1>0))\n",
    "    dW1 = 1./m*np.dot(dZ1, X.T)\n",
    "    db1 = 1./m*np.sum(dZ1, axis=1, keepdims=True)\n",
    "    \n",
    "    gradients = {\"dZ3\":dZ3,\"dW3\":dW3,'db3':db3,'dA2':dA2,'dZ2':dZ2,'dW2':dW2,'db2':db2,'dA1':dA1,\n",
    "                'dZ1':dZ1,'dW1':dW1,'db1':db1}\n",
    "    return gradients"
   ]
  },
  {
   "cell_type": "markdown",
   "metadata": {},
   "source": [
    "## only use dropout in train not in test\n",
    "## forward/backward propagation all use drop out\n",
    "## remember to divide each dropout layer by keep_prob to keep same expected value"
   ]
  },
  {
   "cell_type": "markdown",
   "metadata": {
    "collapsed": true
   },
   "source": [
    "### 解决过拟合的方法是 L2 regularization 和 dropout\n",
    "### 根本原因是使得权重降低"
   ]
  },
  {
   "cell_type": "code",
   "execution_count": null,
   "metadata": {
    "collapsed": true
   },
   "outputs": [],
   "source": []
  }
 ],
 "metadata": {
  "kernelspec": {
   "display_name": "Python 3",
   "language": "python",
   "name": "python3"
  },
  "language_info": {
   "codemirror_mode": {
    "name": "ipython",
    "version": 3
   },
   "file_extension": ".py",
   "mimetype": "text/x-python",
   "name": "python",
   "nbconvert_exporter": "python",
   "pygments_lexer": "ipython3",
   "version": "3.6.3"
  }
 },
 "nbformat": 4,
 "nbformat_minor": 2
}
