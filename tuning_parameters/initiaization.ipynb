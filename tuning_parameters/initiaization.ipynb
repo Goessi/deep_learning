{
 "cells": [
  {
   "cell_type": "code",
   "execution_count": 1,
   "metadata": {
    "collapsed": true
   },
   "outputs": [],
   "source": [
    "import numpy as np\n",
    "import matplotlib.pyplot as plt\n",
    "import sklearn"
   ]
  },
  {
   "cell_type": "code",
   "execution_count": 2,
   "metadata": {
    "collapsed": true
   },
   "outputs": [],
   "source": [
    "def model(X, Y, learning_rate=0.01,num_iterations=15000,print_cost=True,initialization='he'):\n",
    "    grads = {}\n",
    "    costs = []\n",
    "    m = X.shape[1]\n",
    "    layers_dims = [X.shape[0], 10, 5, 1]\n",
    "    \n",
    "    if initialization == 'zeros':\n",
    "        parameters = initialize_parameters_zeros(layers_dims)\n",
    "    elif initialization == 'random':\n",
    "        parameters = initialize_parameters_random(layers_dims)\n",
    "    elif initialization == 'he':\n",
    "        parameters = initialize_parameters_he(layers_dims)\n",
    "    \n",
    "    # gradient descent\n",
    "    for i in range(0,num_iterations):\n",
    "        a3, cache = forward_propagation(X, parameters)\n",
    "        cost = compute_loss(a3,Y)\n",
    "        grads = backward_propagation(X,Y,cache)\n",
    "        parameters = update_parameters(parameters,grads,learning_rate)\n",
    "        if print_cost and i%1000 == 0:\n",
    "            costs.append(cost)\n",
    "    return parameters"
   ]
  },
  {
   "cell_type": "markdown",
   "metadata": {},
   "source": [
    "### 上面的函数，有的并未导入，可以在之前的笔记本里查看，简单说来就是比较不同的初始化方法对结果的影响\n",
    "#### 不同的初始化，会导致不同的结果\n",
    "#### 随机初始化是为了打破对称结构并且保证每个神经元可以学到不同的东西\n",
    "#### 不要把数值初始化得很大\n",
    "#### 下面我们可以看到 he初始化与ReLu激活函数配合食用更好哦"
   ]
  },
  {
   "cell_type": "code",
   "execution_count": 3,
   "metadata": {
    "collapsed": true
   },
   "outputs": [],
   "source": [
    "def initialize_parameters_zeros(layers_dims):\n",
    "    parameters = {}\n",
    "    L = len(layers_dims)\n",
    "    \n",
    "    for l in range(1,L):\n",
    "        parameters['W'+str(l)] = np.zeros((layers_dims[l],layers_dims[l-1]))\n",
    "        parameters['b'+str(l)] = np.zeros((layers_dims[l],i))\n",
    "    return parameters"
   ]
  },
  {
   "cell_type": "markdown",
   "metadata": {},
   "source": [
    "#### 只需要把 W[l] initilized randomly to break symmetry, b[l] could be initialized to zeros"
   ]
  },
  {
   "cell_type": "code",
   "execution_count": 4,
   "metadata": {
    "collapsed": true
   },
   "outputs": [],
   "source": [
    "def initialize_parameters_random(layers_dims):\n",
    "    parameters = {}\n",
    "    L = len(layer_dims)\n",
    "    \n",
    "    for l in range(1,L):\n",
    "        parameters['W'+str(l)] = np.random.randn(layers_dims[l],layers_dims[l-1])*10\n",
    "        parameters['b'+str(l)] = np.zeros((layers_dims[l],1))\n",
    "        \n",
    "    return parameters"
   ]
  },
  {
   "cell_type": "code",
   "execution_count": null,
   "metadata": {
    "collapsed": true
   },
   "outputs": [],
   "source": [
    "def initialize_parameters_he(layers_dims):\n",
    "    parameters = {}\n",
    "    L = len(layers_dims)\n",
    "    for l in range(1,L+1):\n",
    "        parameters['W'+str(l)] = np.random.randn(layers_dims[l],layers_dims[l-1])*np.sqrt(2/layers_dims[l-1])\n",
    "        parameters['b'+str(l)] = np.zeros((layers_dims[l],1))"
   ]
  }
 ],
 "metadata": {
  "kernelspec": {
   "display_name": "Python 3",
   "language": "python",
   "name": "python3"
  },
  "language_info": {
   "codemirror_mode": {
    "name": "ipython",
    "version": 3
   },
   "file_extension": ".py",
   "mimetype": "text/x-python",
   "name": "python",
   "nbconvert_exporter": "python",
   "pygments_lexer": "ipython3",
   "version": "3.6.3"
  }
 },
 "nbformat": 4,
 "nbformat_minor": 2
}
